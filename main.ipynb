{
 "cells": [
  {
   "metadata": {
    "ExecuteTime": {
     "end_time": "2025-06-09T18:30:42.591460Z",
     "start_time": "2025-06-09T18:30:41.501212Z"
    }
   },
   "cell_type": "code",
   "source": [
    "import matplotlib.pyplot as plt\n",
    "import pandas as pd\n",
    "import numpy as np"
   ],
   "id": "274ba8f04ae94d1e",
   "outputs": [],
   "execution_count": 1
  },
  {
   "cell_type": "markdown",
   "id": "9d0369c55a291648",
   "metadata": {},
   "source": [
    "# 1. Chargement des données\n",
    "Chargement les différents jeux de données.\n",
    "Préciser le nombre d'observations de chacun d'eux, la période étudiée, etc."
   ]
  },
  {
   "cell_type": "code",
   "id": "initial_id",
   "metadata": {
    "ExecuteTime": {
     "end_time": "2025-06-09T18:30:43.285862Z",
     "start_time": "2025-06-09T18:30:42.765850Z"
    }
   },
   "source": [
    "ch4=pd.read_csv('ch4_mm_gl.csv')\n",
    "co2=pd.read_csv('co2_mm_gl.csv')\n",
    "n2o=pd.read_csv('n2o_mm_gl.csv')\n",
    "sf6=pd.read_csv('sf6_mm_gl.csv')"
   ],
   "outputs": [
    {
     "ename": "ParserError",
     "evalue": "Error tokenizing data. C error: Expected 1 fields in line 8, saw 2\n",
     "output_type": "error",
     "traceback": [
      "\u001B[31m---------------------------------------------------------------------------\u001B[39m",
      "\u001B[31mParserError\u001B[39m                               Traceback (most recent call last)",
      "\u001B[36mCell\u001B[39m\u001B[36m \u001B[39m\u001B[32mIn[2]\u001B[39m\u001B[32m, line 1\u001B[39m\n\u001B[32m----> \u001B[39m\u001B[32m1\u001B[39m ch4=\u001B[43mpd\u001B[49m\u001B[43m.\u001B[49m\u001B[43mread_csv\u001B[49m\u001B[43m(\u001B[49m\u001B[33;43m'\u001B[39;49m\u001B[33;43mch4_mm_gl.csv\u001B[39;49m\u001B[33;43m'\u001B[39;49m\u001B[43m)\u001B[49m\n\u001B[32m      2\u001B[39m co2=pd.read_csv(\u001B[33m'\u001B[39m\u001B[33mco2_mm_gl.csv\u001B[39m\u001B[33m'\u001B[39m)\n\u001B[32m      3\u001B[39m n2o=pd.read_csv(\u001B[33m'\u001B[39m\u001B[33mn2o_mm_gl.csv\u001B[39m\u001B[33m'\u001B[39m)\n",
      "\u001B[36mFile \u001B[39m\u001B[32m~\\AppData\\Local\\Programs\\Python\\Python313\\Lib\\site-packages\\pandas\\io\\parsers\\readers.py:1026\u001B[39m, in \u001B[36mread_csv\u001B[39m\u001B[34m(filepath_or_buffer, sep, delimiter, header, names, index_col, usecols, dtype, engine, converters, true_values, false_values, skipinitialspace, skiprows, skipfooter, nrows, na_values, keep_default_na, na_filter, verbose, skip_blank_lines, parse_dates, infer_datetime_format, keep_date_col, date_parser, date_format, dayfirst, cache_dates, iterator, chunksize, compression, thousands, decimal, lineterminator, quotechar, quoting, doublequote, escapechar, comment, encoding, encoding_errors, dialect, on_bad_lines, delim_whitespace, low_memory, memory_map, float_precision, storage_options, dtype_backend)\u001B[39m\n\u001B[32m   1013\u001B[39m kwds_defaults = _refine_defaults_read(\n\u001B[32m   1014\u001B[39m     dialect,\n\u001B[32m   1015\u001B[39m     delimiter,\n\u001B[32m   (...)\u001B[39m\u001B[32m   1022\u001B[39m     dtype_backend=dtype_backend,\n\u001B[32m   1023\u001B[39m )\n\u001B[32m   1024\u001B[39m kwds.update(kwds_defaults)\n\u001B[32m-> \u001B[39m\u001B[32m1026\u001B[39m \u001B[38;5;28;01mreturn\u001B[39;00m \u001B[43m_read\u001B[49m\u001B[43m(\u001B[49m\u001B[43mfilepath_or_buffer\u001B[49m\u001B[43m,\u001B[49m\u001B[43m \u001B[49m\u001B[43mkwds\u001B[49m\u001B[43m)\u001B[49m\n",
      "\u001B[36mFile \u001B[39m\u001B[32m~\\AppData\\Local\\Programs\\Python\\Python313\\Lib\\site-packages\\pandas\\io\\parsers\\readers.py:626\u001B[39m, in \u001B[36m_read\u001B[39m\u001B[34m(filepath_or_buffer, kwds)\u001B[39m\n\u001B[32m    623\u001B[39m     \u001B[38;5;28;01mreturn\u001B[39;00m parser\n\u001B[32m    625\u001B[39m \u001B[38;5;28;01mwith\u001B[39;00m parser:\n\u001B[32m--> \u001B[39m\u001B[32m626\u001B[39m     \u001B[38;5;28;01mreturn\u001B[39;00m \u001B[43mparser\u001B[49m\u001B[43m.\u001B[49m\u001B[43mread\u001B[49m\u001B[43m(\u001B[49m\u001B[43mnrows\u001B[49m\u001B[43m)\u001B[49m\n",
      "\u001B[36mFile \u001B[39m\u001B[32m~\\AppData\\Local\\Programs\\Python\\Python313\\Lib\\site-packages\\pandas\\io\\parsers\\readers.py:1923\u001B[39m, in \u001B[36mTextFileReader.read\u001B[39m\u001B[34m(self, nrows)\u001B[39m\n\u001B[32m   1916\u001B[39m nrows = validate_integer(\u001B[33m\"\u001B[39m\u001B[33mnrows\u001B[39m\u001B[33m\"\u001B[39m, nrows)\n\u001B[32m   1917\u001B[39m \u001B[38;5;28;01mtry\u001B[39;00m:\n\u001B[32m   1918\u001B[39m     \u001B[38;5;66;03m# error: \"ParserBase\" has no attribute \"read\"\u001B[39;00m\n\u001B[32m   1919\u001B[39m     (\n\u001B[32m   1920\u001B[39m         index,\n\u001B[32m   1921\u001B[39m         columns,\n\u001B[32m   1922\u001B[39m         col_dict,\n\u001B[32m-> \u001B[39m\u001B[32m1923\u001B[39m     ) = \u001B[38;5;28;43mself\u001B[39;49m\u001B[43m.\u001B[49m\u001B[43m_engine\u001B[49m\u001B[43m.\u001B[49m\u001B[43mread\u001B[49m\u001B[43m(\u001B[49m\u001B[43m  \u001B[49m\u001B[38;5;66;43;03m# type: ignore[attr-defined]\u001B[39;49;00m\n\u001B[32m   1924\u001B[39m \u001B[43m        \u001B[49m\u001B[43mnrows\u001B[49m\n\u001B[32m   1925\u001B[39m \u001B[43m    \u001B[49m\u001B[43m)\u001B[49m\n\u001B[32m   1926\u001B[39m \u001B[38;5;28;01mexcept\u001B[39;00m \u001B[38;5;167;01mException\u001B[39;00m:\n\u001B[32m   1927\u001B[39m     \u001B[38;5;28mself\u001B[39m.close()\n",
      "\u001B[36mFile \u001B[39m\u001B[32m~\\AppData\\Local\\Programs\\Python\\Python313\\Lib\\site-packages\\pandas\\io\\parsers\\c_parser_wrapper.py:234\u001B[39m, in \u001B[36mCParserWrapper.read\u001B[39m\u001B[34m(self, nrows)\u001B[39m\n\u001B[32m    232\u001B[39m \u001B[38;5;28;01mtry\u001B[39;00m:\n\u001B[32m    233\u001B[39m     \u001B[38;5;28;01mif\u001B[39;00m \u001B[38;5;28mself\u001B[39m.low_memory:\n\u001B[32m--> \u001B[39m\u001B[32m234\u001B[39m         chunks = \u001B[38;5;28;43mself\u001B[39;49m\u001B[43m.\u001B[49m\u001B[43m_reader\u001B[49m\u001B[43m.\u001B[49m\u001B[43mread_low_memory\u001B[49m\u001B[43m(\u001B[49m\u001B[43mnrows\u001B[49m\u001B[43m)\u001B[49m\n\u001B[32m    235\u001B[39m         \u001B[38;5;66;03m# destructive to chunks\u001B[39;00m\n\u001B[32m    236\u001B[39m         data = _concatenate_chunks(chunks)\n",
      "\u001B[36mFile \u001B[39m\u001B[32mpandas/_libs/parsers.pyx:838\u001B[39m, in \u001B[36mpandas._libs.parsers.TextReader.read_low_memory\u001B[39m\u001B[34m()\u001B[39m\n",
      "\u001B[36mFile \u001B[39m\u001B[32mpandas/_libs/parsers.pyx:905\u001B[39m, in \u001B[36mpandas._libs.parsers.TextReader._read_rows\u001B[39m\u001B[34m()\u001B[39m\n",
      "\u001B[36mFile \u001B[39m\u001B[32mpandas/_libs/parsers.pyx:874\u001B[39m, in \u001B[36mpandas._libs.parsers.TextReader._tokenize_rows\u001B[39m\u001B[34m()\u001B[39m\n",
      "\u001B[36mFile \u001B[39m\u001B[32mpandas/_libs/parsers.pyx:891\u001B[39m, in \u001B[36mpandas._libs.parsers.TextReader._check_tokenize_status\u001B[39m\u001B[34m()\u001B[39m\n",
      "\u001B[36mFile \u001B[39m\u001B[32mpandas/_libs/parsers.pyx:2061\u001B[39m, in \u001B[36mpandas._libs.parsers.raise_parser_error\u001B[39m\u001B[34m()\u001B[39m\n",
      "\u001B[31mParserError\u001B[39m: Error tokenizing data. C error: Expected 1 fields in line 8, saw 2\n"
     ]
    }
   ],
   "execution_count": 2
  },
  {
   "cell_type": "markdown",
   "id": "cc873f15288d351c",
   "metadata": {},
   "source": [
    "# 2. Sélection des données\n",
    "Pour chaque jeu de données ne conserver que les variables “month“ et “average“. On supprimera donc les autres."
   ]
  },
  {
   "cell_type": "code",
   "id": "48084114e46a9a3f",
   "metadata": {},
   "source": "",
   "outputs": [],
   "execution_count": null
  },
  {
   "metadata": {},
   "cell_type": "markdown",
   "source": [
    "# 3. Documentation\n",
    "Se documenter puis présenter les différents gaz concernés par ces études : formule chimique, effets sur l'atmosphère, unité de mesure, etc"
   ],
   "id": "460f473350dfcece"
  },
  {
   "metadata": {},
   "cell_type": "markdown",
   "source": "",
   "id": "b015bc7caf2d4aeb"
  },
  {
   "metadata": {},
   "cell_type": "markdown",
   "source": [
    "# 4. Représentation par un nuage de points.\n",
    "En abscisse on représentera l'indice des observations et en ordonnée la mesure du gaz en question. Interpréter les résultats obtenus."
   ],
   "id": "e3832c43cfc6982e"
  },
  {
   "metadata": {},
   "cell_type": "code",
   "source": "",
   "id": "d9d8b7e917591bac",
   "outputs": [],
   "execution_count": null
  },
  {
   "metadata": {},
   "cell_type": "markdown",
   "source": " Quels sont les deux gaz dont les émissions présentent clairement des variations saisonnières ?",
   "id": "e294b37c03b9a786"
  },
  {
   "metadata": {},
   "cell_type": "markdown",
   "source": [
    "# 5. Variations saisonnières\n",
    "Pour les deux gaz dont les émissions présentent clairement des variations saisonnières, on désigne par t l'indice d'un mois et par xt la mesure correspondante. On va chercher à décomposer xt et l'écrire comme la somme de deux termes, le premier représentant la tendance de fond et le second les effets de la saisonnalité"
   ],
   "id": "43bd503cfb9898e5"
  },
  {
   "metadata": {},
   "cell_type": "markdown",
   "source": [
    "## 5.1\n",
    "Calculer pour chaque mois (quand c'est possible) une moyenne mobile d'ordre 6\n",
    "Pour quels mois n'est-il pas possible de calculer cette quantité ? Pourquoi ?\n",
    "Interpréter cette notion de moyenne mobile. Quel sens donner à cette nouvelle série constituée des x∗t ? Pourquoi parle t-on en général de “série lissée“ à son sujet ?"
   ],
   "id": "1854c30329e6cc6a"
  },
  {
   "metadata": {},
   "cell_type": "code",
   "source": "True",
   "id": "d76701931ab1a3de",
   "outputs": [],
   "execution_count": null
  },
  {
   "metadata": {},
   "cell_type": "markdown",
   "source": "",
   "id": "4ee4d2470891f19b"
  },
  {
   "metadata": {},
   "cell_type": "markdown",
   "source": [
    "## 5.2\n",
    "Calculer la série privée de sa série lissée, i.e. St=xt−x∗t. Comment interpréter cette nouvelle série ?"
   ],
   "id": "ae240fee62a9fae5"
  },
  {
   "metadata": {},
   "cell_type": "code",
   "source": "True",
   "id": "69ee2e5c38a7834",
   "outputs": [],
   "execution_count": null
  },
  {
   "metadata": {},
   "cell_type": "markdown",
   "source": "",
   "id": "54851d8e3d63b344"
  },
  {
   "metadata": {},
   "cell_type": "markdown",
   "source": [
    "## 5.3\n",
    "Calculer les 12 coefficients mensuels c1,c2,...,c12, il s'agit pour chacun d'eux de la moyenne des termes St correspondants au mois en question. Quel sens donner à ces coefficients ?"
   ],
   "id": "d85c091e5b1b0c09"
  },
  {
   "metadata": {},
   "cell_type": "code",
   "source": "True",
   "id": "46cff4a7e977aaf2",
   "outputs": [],
   "execution_count": null
  },
  {
   "metadata": {},
   "cell_type": "markdown",
   "source": "",
   "id": "c35736609729b9cc"
  },
  {
   "metadata": {},
   "cell_type": "markdown",
   "source": [
    "## 5.4\n",
    "Calculer les 12 coefficients mensuels corrigés : c′j=cj−c¯ où c¯ désigne la moyenne des 12 coefficients mensuels. Interpréter."
   ],
   "id": "3bcab70e2fea0ea2"
  },
  {
   "metadata": {},
   "cell_type": "code",
   "source": "True",
   "id": "c1c92afb36112a3e",
   "outputs": [],
   "execution_count": null
  },
  {
   "metadata": {},
   "cell_type": "markdown",
   "source": "",
   "id": "2068426167ffb1ee"
  },
  {
   "metadata": {},
   "cell_type": "markdown",
   "source": [
    "## 5.5\n",
    "Calculer la série corrigée des variations saisonnières : il s’agit de la série de données résultant des différences entre les données initiales et les coefficients mensuels corrigés correspondant. La représenter. Interpréter."
   ],
   "id": "d429cbcb5397dabb"
  },
  {
   "metadata": {},
   "cell_type": "code",
   "source": "True",
   "id": "ee7f897d85fd0f53",
   "outputs": [],
   "execution_count": null
  },
  {
   "metadata": {},
   "cell_type": "markdown",
   "source": "",
   "id": "5786de1eba1a20c3"
  },
  {
   "metadata": {},
   "cell_type": "markdown",
   "source": [
    "## 5.6\n",
    "Calculer l’équation de la droite de régression de la série corrigée des variations saisonnières. La représenter.  Cette droite s’appelle “trend“ ou “tendance“. Interpréter cette notion."
   ],
   "id": "1bca23ed7c78cc32"
  },
  {
   "metadata": {},
   "cell_type": "code",
   "source": "True",
   "id": "5df505bb96a8a8ff",
   "outputs": [],
   "execution_count": null
  },
  {
   "metadata": {},
   "cell_type": "markdown",
   "source": "",
   "id": "823304b26b2e1256"
  },
  {
   "metadata": {},
   "cell_type": "markdown",
   "source": [
    "## 5.7\n",
    "Effectuer des prévisions pour chacun des mois des deux prochaines années. Pour un mois donné il s’agit de la somme de la valeur de la tendance correspondante à ce mois et du coefficient mensuel corrigé. Interpréter cette méthode de prévision."
   ],
   "id": "6feac11175ff2731"
  },
  {
   "metadata": {},
   "cell_type": "code",
   "source": "True",
   "id": "de3f2323a6701706",
   "outputs": [],
   "execution_count": null
  },
  {
   "metadata": {},
   "cell_type": "markdown",
   "source": "",
   "id": "cf793890589b696a"
  },
  {
   "metadata": {},
   "cell_type": "markdown",
   "source": [
    "## 5.8\n",
    "A quoi peuvent être dues les variations saisonnières observées ?"
   ],
   "id": "b53c796235e82b43"
  },
  {
   "metadata": {},
   "cell_type": "markdown",
   "source": "",
   "id": "ef516f538b22f647"
  },
  {
   "metadata": {},
   "cell_type": "markdown",
   "source": [
    "# 6.\n",
    "On va maintenant chercher à décomposer xt en l'écrivant comme le produit de deux termes, le premier représentant la tendance de fond et le second les effets de la saisonnalité :"
   ],
   "id": "fac517dbb9f36ce0"
  },
  {
   "metadata": {},
   "cell_type": "markdown",
   "source": [
    "## 6.1\n",
    "On définit la série lissée de la même façon que précédemment."
   ],
   "id": "fc97dbae043f72f3"
  },
  {
   "metadata": {},
   "cell_type": "code",
   "source": "",
   "id": "152cbb965dd35d46",
   "outputs": [],
   "execution_count": null
  },
  {
   "metadata": {},
   "cell_type": "markdown",
   "source": [
    "## 6.2\n",
    "Calculer la série divisée par sa série lissée, i.e. St=(Xt)/(X∗t)."
   ],
   "id": "b38a9a3e4df78175"
  },
  {
   "metadata": {},
   "cell_type": "code",
   "source": "",
   "id": "2f56334fd7533f0e",
   "outputs": [],
   "execution_count": null
  },
  {
   "metadata": {},
   "cell_type": "markdown",
   "source": "Comment interpréter cette nouvelle série ?",
   "id": "24930bc2fea7cddf"
  },
  {
   "metadata": {},
   "cell_type": "markdown",
   "source": [
    "## 6.3\n",
    "Mêmes calculs des coefficients mensuels."
   ],
   "id": "9833ea298607e522"
  },
  {
   "metadata": {},
   "cell_type": "code",
   "source": "",
   "id": "385b2e4645d66e7a",
   "outputs": [],
   "execution_count": null
  },
  {
   "metadata": {},
   "cell_type": "markdown",
   "source": [
    "## 6.4\n",
    "Calculer les 12 coefficients mensuels corrigés :\n",
    "c′j=cj/c¯ où c¯ désigne la moyenne des 12 coefficients mensuels. Interpréter."
   ],
   "id": "5ebb641c77a9958e"
  },
  {
   "metadata": {},
   "cell_type": "code",
   "source": "",
   "id": "656a904b158784a9",
   "outputs": [],
   "execution_count": null
  },
  {
   "metadata": {},
   "cell_type": "markdown",
   "source": "",
   "id": "facea7f28e81d967"
  },
  {
   "metadata": {},
   "cell_type": "markdown",
   "source": [
    "## 6.5\n",
    "Calculer la série corrigée des variations saisonnières : il s’agit de la série de données résultant des quotients entre les données initiales et les coefficients mensuels corrigés correspondant. La représenter. Interpréter."
   ],
   "id": "2e7f4a63e5d1d052"
  },
  {
   "metadata": {},
   "cell_type": "code",
   "source": "",
   "id": "cb446047096732ba",
   "outputs": [],
   "execution_count": null
  },
  {
   "metadata": {},
   "cell_type": "markdown",
   "source": "",
   "id": "8fa630087cd5f3bf"
  },
  {
   "metadata": {},
   "cell_type": "markdown",
   "source": [
    "## 6.6\n",
    "Même calcul de la tendance que précédemment."
   ],
   "id": "90d875d97d709474"
  },
  {
   "metadata": {},
   "cell_type": "code",
   "source": "",
   "id": "e44c59e8082c5565",
   "outputs": [],
   "execution_count": null
  },
  {
   "metadata": {},
   "cell_type": "markdown",
   "source": [
    "## 6.7\n",
    "Effectuer des prévisions pour chacun des mois des deux prochaines années. Pour un mois donné il s’agit du produit de la valeur de la tendance correspondante à ce mois et du coefficient mensuel corrigé. Interpréter cette méthode de prévision."
   ],
   "id": "c554d7d5afb77291"
  },
  {
   "metadata": {},
   "cell_type": "code",
   "source": "",
   "id": "858b005ab999f42d",
   "outputs": [],
   "execution_count": null
  },
  {
   "metadata": {},
   "cell_type": "markdown",
   "source": "",
   "id": "93bd5a4802ba5871"
  },
  {
   "metadata": {},
   "cell_type": "markdown",
   "source": [
    "# 7. Comparer\n",
    "Comparer les démarches des questions 5 et 6. Laquelle vous semble la plus pertinente dans notre contexte ?"
   ],
   "id": "e66ebec41221e140"
  },
  {
   "metadata": {},
   "cell_type": "markdown",
   "source": "",
   "id": "88d1ff173426ca5f"
  },
  {
   "metadata": {},
   "cell_type": "markdown",
   "source": [
    "# 8.\n",
    "Pour les deux gaz dont les émissions ne présentent pas clairement des variations saisonnières, on va effectuer une régression linéaire :"
   ],
   "id": "486624744882e251"
  },
  {
   "metadata": {},
   "cell_type": "markdown",
   "source": [
    "## 8.1\n",
    "Calculer le coefficient de corrélation."
   ],
   "id": "f4025461c3a72d0d"
  },
  {
   "metadata": {},
   "cell_type": "code",
   "source": "",
   "id": "5d5d295810102159",
   "outputs": [],
   "execution_count": null
  },
  {
   "metadata": {},
   "cell_type": "markdown",
   "source": [
    "## 8.2\n",
    "Déterminer l'équation de la droite de régression et la représenter par dessus le nuage de points."
   ],
   "id": "2dd2ca57cf331ee0"
  },
  {
   "metadata": {},
   "cell_type": "markdown",
   "source": [
    "## 8.3\n",
    "Effectuer des prévisions pour chacun des mois des deux prochaines années."
   ],
   "id": "bca1bbd7a6975585"
  },
  {
   "metadata": {},
   "cell_type": "markdown",
   "source": [
    "## 8.4\n",
    "Reprendre les trois questions précédentes avec une régression exponentielle. Ce modèle est-il plus pertinent que le modèle linéaire ?"
   ],
   "id": "f9f211377c364995"
  },
  {
   "metadata": {},
   "cell_type": "markdown",
   "source": [
    "# 9.\n",
    "Reprendre les deux gaz de la question 5, i.e. ceux dont les émissions présentent clairement des variations saisonnières, et pour chacun d'eux mener l'étude suivante :"
   ],
   "id": "15035e7d3c2bec98"
  },
  {
   "metadata": {},
   "cell_type": "markdown",
   "source": [
    "## 9.1\n",
    "Créer un nouveau dataset en agrégeant les valeurs de la variable \"average\" par année. Il comportera donc une variable \"year\"."
   ],
   "id": "8afb91c8df3132b0"
  },
  {
   "metadata": {},
   "cell_type": "code",
   "source": "",
   "id": "b296c0458bcf63a8",
   "outputs": [],
   "execution_count": null
  },
  {
   "metadata": {},
   "cell_type": "markdown",
   "source": [
    "## 9.2\n",
    "Construire un nuage de points avec en abscisse l'indice des observations et en ordonnée les émissions correspondantes."
   ],
   "id": "822293b238a8e6ef"
  },
  {
   "metadata": {},
   "cell_type": "code",
   "source": "",
   "id": "1323e32ff0602fcc",
   "outputs": [],
   "execution_count": null
  },
  {
   "metadata": {},
   "cell_type": "markdown",
   "source": [
    "## 9.3\n",
    "Calculer le coefficient de corrélation."
   ],
   "id": "d2be10d5052a228f"
  },
  {
   "metadata": {},
   "cell_type": "code",
   "source": "",
   "id": "6cc4b95061acce99",
   "outputs": [],
   "execution_count": null
  },
  {
   "metadata": {},
   "cell_type": "markdown",
   "source": [
    "## 9.4\n",
    "Déterminer l'équation de la droite de régression et la représenter par dessus le nuage de points."
   ],
   "id": "1e32e9b265284f51"
  },
  {
   "metadata": {},
   "cell_type": "code",
   "source": "",
   "id": "d0edba6477c05d4a",
   "outputs": [],
   "execution_count": null
  },
  {
   "metadata": {},
   "cell_type": "markdown",
   "source": [
    "## 9.5\n",
    "Effectuer des prévisions pour chacune des deux prochaines années."
   ],
   "id": "672552ed83153afa"
  },
  {
   "metadata": {},
   "cell_type": "code",
   "source": "",
   "id": "f3983bc298be2cca",
   "outputs": [],
   "execution_count": null
  },
  {
   "metadata": {},
   "cell_type": "markdown",
   "source": [
    "## 9.6\n",
    "Reprendre les trois questions précédentes avec une régression exponentielle. Ce modèle est-il plus pertinent que le modèle linéaire ?"
   ],
   "id": "4bb82fd456c854b4"
  },
  {
   "metadata": {},
   "cell_type": "code",
   "source": "",
   "id": "f73647322e4ab177",
   "outputs": [],
   "execution_count": null
  },
  {
   "metadata": {},
   "cell_type": "markdown",
   "source": "",
   "id": "cb10dbf70aee2263"
  }
 ],
 "metadata": {
  "kernelspec": {
   "display_name": "Python 3 (ipykernel)",
   "language": "python",
   "name": "python3"
  },
  "language_info": {
   "codemirror_mode": {
    "name": "ipython",
    "version": 3
   },
   "file_extension": ".py",
   "mimetype": "text/x-python",
   "name": "python",
   "nbconvert_exporter": "python",
   "pygments_lexer": "ipython3",
   "version": "3.12.3"
  }
 },
 "nbformat": 4,
 "nbformat_minor": 5
}
